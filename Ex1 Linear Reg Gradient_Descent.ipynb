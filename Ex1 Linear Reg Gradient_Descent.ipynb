{
 "cells": [
  {
   "cell_type": "code",
   "execution_count": 107,
   "metadata": {},
   "outputs": [],
   "source": [
    "import os\n",
    "import numpy as np\n",
    "import matplotlib.pyplot as plt\n",
    "import time\n",
    "from IPython import display\n",
    "from mpl_toolkits.mplot3d import Axes3D\n",
    "from matplotlib.legend_handler import HandlerLine2D\n"
   ]
  },
  {
   "cell_type": "code",
   "execution_count": 104,
   "metadata": {},
   "outputs": [
    {
     "name": "stdout",
     "output_type": "stream",
     "text": [
      "(97, 2)\n"
     ]
    }
   ],
   "source": [
    "file= open(\"data1.txt\")\n",
    "data= np.loadtxt(file, delimiter=',')\n",
    "print(data.shape)\n"
   ]
  },
  {
   "cell_type": "code",
   "execution_count": 105,
   "metadata": {},
   "outputs": [
    {
     "name": "stdout",
     "output_type": "stream",
     "text": [
      "97 97\n"
     ]
    }
   ],
   "source": [
    "m=len(data)\n",
    "X=np.array(list(zip(*data))[0]).reshape(m,1)\n",
    "Y=np.array(list(zip(*data))[1]).reshape(m,1)\n",
    "print(len(X), len(Y))"
   ]
  },
  {
   "cell_type": "code",
   "execution_count": 106,
   "metadata": {},
   "outputs": [
    {
     "data": {
      "image/png": "[encoded data removed]",
      "text/plain": [
       "<matplotlib.figure.Figure at 0x240524e4b00>"
      ]
     },
     "metadata": {},
     "output_type": "display_data"
    }
   ],
   "source": [
    "plt.scatter(X,Y, s=30, marker='+')\n",
    "plt.title(\"Data\")\n",
    "plt.xlabel(\"Population\")\n",
    "plt.ylabel(\"Profit\")\n",
    "plt.show()"
   ]
  },
  {
   "cell_type": "code",
   "execution_count": 7,
   "metadata": {},
   "outputs": [],
   "source": [
    "n=np.ones((m,1))\n"
   ]
  },
  {
   "cell_type": "code",
   "execution_count": 122,
   "metadata": {},
   "outputs": [
    {
     "name": "stdout",
     "output_type": "stream",
     "text": [
      "[[ 0.]\n",
      " [ 0.]]\n",
      "(97, 2) (2, 1)\n"
     ]
    }
   ],
   "source": [
    "theta= np.zeros([1,2]).reshape(2,1)\n",
    "print(theta)\n",
    "x= np.c_[n, X]\n",
    "y=Y\n",
    "print(x.shape, theta.shape)"
   ]
  },
  {
   "cell_type": "code",
   "execution_count": 123,
   "metadata": {},
   "outputs": [],
   "source": [
    "def gradient_descent(x,y,theta, rate, m, iterations, showItr=False):\n",
    "    plt.ion()\n",
    "    a=[]\n",
    "    b=[]\n",
    "    for i in range(0, iterations):\n",
    "        hq= x.dot(theta)\n",
    "        error= hq-y\n",
    "        cost= np.sum(error**2)/(2*m)\n",
    "        if((i%10==0) and showItr):\n",
    "            print(\"Iteration %d | Cost: %f\" % (i, cost))\n",
    "        gradient= (x.T).dot(error)/m\n",
    "        theta= theta- rate*gradient\n",
    "        a.append(theta)\n",
    "        b.append(cost)\n",
    "        \n",
    "#         fig = plt.figure()\n",
    "#         ax = fig.add_subplot(111, projection='3d')\n",
    "#         ax.scatter(theta[0],theta[1], cost,c='r', marker='o')\n",
    "#         display.display(plt.gcf())\n",
    "#         display.clear_output(wait=True)\n",
    "#         time.sleep(1)\n",
    "#     plt.show()\n",
    "    a=np.array(a).reshape(len(a),2)\n",
    "    b=np.array(b).reshape(len(b),1)\n",
    "    line2, = plt.plot(a[:,1], b, label='Theta 1')\n",
    "    line1, = plt.plot(a[:,0], b, label= 'Theta 0')\n",
    "    plt.xlabel(\"Theta\")\n",
    "    plt.ylabel(\"Cost Function\")\n",
    "    plt.legend(handler_map={line1: HandlerLine2D(numpoints=4)})\n",
    "    return theta\n",
    "        "
   ]
  },
  {
   "cell_type": "code",
   "execution_count": 124,
   "metadata": {},
   "outputs": [
    {
     "name": "stdout",
     "output_type": "stream",
     "text": [
      "[[-3.24140214]\n",
      " [ 1.1272942 ]]\n"
     ]
    },
    {
     "data": {
      "image/png": "[encoded data removed]",
      "text/plain": [
       "<matplotlib.figure.Figure at 0x24047608278>"
      ]
     },
     "metadata": {},
     "output_type": "display_data"
    }
   ],
   "source": [
    "Rate=0.01\n",
    "updated_theta=gradient_descent(x,y,theta, Rate, m,1000)\n",
    "print(updated_theta)"
   ]
  },
  {
   "cell_type": "code",
   "execution_count": 128,
   "metadata": {},
   "outputs": [
    {
     "name": "stdout",
     "output_type": "stream",
     "text": [
      "hypothesis : Hq(X)= -3.241402  +  1.127294*X\n"
     ]
    }
   ],
   "source": [
    "print(\"hypothesis : Hq(X) = %f  +  %f*X\" % (updated_theta[0], updated_theta[1]))"
   ]
  },
  {
   "cell_type": "code",
   "execution_count": 180,
   "metadata": {},
   "outputs": [],
   "source": [
    "for i in range(x.shape[0]):\n",
    "        y_predict = updated_theta[0] + updated_theta[1]*x[:,1] \n"
   ]
  },
  {
   "cell_type": "code",
   "execution_count": 183,
   "metadata": {},
   "outputs": [
    {
     "data": {
      "image/png": "[encoded data removed]",
      "text/plain": [
       "<matplotlib.figure.Figure at 0x2405219a390>"
      ]
     },
     "metadata": {},
     "output_type": "display_data"
    }
   ],
   "source": [
    "# plt.scatter(x[:,1],y, s=30, marker='+')\n",
    "plt.scatter(x[:,1],y,s=30, marker='+')\n",
    "plt.plot(x[:,1], y_predict, 'r--')\n",
    "plt.title(\"Prediction\")\n",
    "plt.xlabel(\"Population\")\n",
    "plt.ylabel(\"Profit\")\n",
    "plt.show()"
   ]
  },
  {
   "cell_type": "code",
   "execution_count": null,
   "metadata": {},
   "outputs": [],
   "source": []
  }
 ],
 "metadata": {
  "kernelspec": {
   "display_name": "Python 3",
   "language": "python",
   "name": "python3"
  },
  "language_info": {
   "codemirror_mode": {
    "name": "ipython",
    "version": 3
   },
   "file_extension": ".py",
   "mimetype": "text/x-python",
   "name": "python",
   "nbconvert_exporter": "python",
   "pygments_lexer": "ipython3",
   "version": "3.5.2"
  }
 },
 "nbformat": 4,
 "nbformat_minor": 2
}
